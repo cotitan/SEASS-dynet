{
 "cells": [
  {
   "cell_type": "code",
   "execution_count": 2,
   "metadata": {
    "collapsed": true
   },
   "outputs": [],
   "source": [
    "from pythonrouge.pythonrouge import Pythonrouge\n",
    "\n",
    "N_TEST = 2000\n",
    "\n",
    "ROUGE_PATH = '/Users/torufujino/pythonrouge/pythonrouge/RELEASE-1.5.5/ROUGE-1.5.5.pl'\n",
    "DATA_PATH  = '/Users/torufujino/pythonrouge/pythonrouge/RELEASE-1.5.5/data/'\n",
    "\n",
    "PRED_Y_PATH = './results/20171106/pred_y.txt'\n",
    "TRUE_Y_PATH = './data/valid.title.filter.txt'"
   ]
  },
  {
   "cell_type": "markdown",
   "metadata": {},
   "source": [
    "Initialize the setting of ROUGE"
   ]
  },
  {
   "cell_type": "code",
   "execution_count": 3,
   "metadata": {
    "collapsed": true
   },
   "outputs": [],
   "source": [
    "\n",
    "rouge = Pythonrouge(n_gram=2, ROUGE_SU4=True, ROUGE_L=True, stemming=True, stopwords=True, word_level=True, length_limit=True, length=50, use_cf=False, cf=95, scoring_formula=\"average\", resampling=True, samples=1000, favor=True, p=0.5)"
   ]
  },
  {
   "cell_type": "markdown",
   "metadata": {},
   "source": [
    "System summaries"
   ]
  },
  {
   "cell_type": "code",
   "execution_count": 4,
   "metadata": {
    "collapsed": true
   },
   "outputs": [],
   "source": [
    "pred_y = []\n",
    "for i, line in enumerate(open(PRED_Y_PATH, encoding='utf-8', errors='ignore')):\n",
    "    sentence = line.strip()\n",
    "    pred_y.append([sentence])\n",
    "    if i+1 >= N_TEST:\n",
    "        break"
   ]
  },
  {
   "cell_type": "markdown",
   "metadata": {},
   "source": [
    "Reference summaries"
   ]
  },
  {
   "cell_type": "code",
   "execution_count": 6,
   "metadata": {
    "collapsed": true
   },
   "outputs": [],
   "source": [
    "true_y = []\n",
    "for i, line in enumerate(open(TRUE_Y_PATH, encoding='utf-8', errors='ignore')):\n",
    "    sentence = line.strip()\n",
    "    true_y.append([[sentence]])\n",
    "    if i+1 >= N_TEST:\n",
    "        break"
   ]
  },
  {
   "cell_type": "code",
   "execution_count": 7,
   "metadata": {},
   "outputs": [
    {
     "name": "stdout",
     "output_type": "stream",
     "text": [
      "{'ROUGE-1': 0.44331, 'ROUGE-2': 0.19574, 'ROUGE-L': 0.413, 'ROUGE-SU4': 0.26027}\n"
     ]
    }
   ],
   "source": [
    "setting_file = rouge.setting(files=False, summary=pred_y, reference=true_y)\n",
    "result = rouge.eval_rouge(setting_file, f_measure_only=True, ROUGE_path=ROUGE_PATH, data_path=DATA_PATH)\n",
    "print(result)"
   ]
  },
  {
   "cell_type": "code",
   "execution_count": null,
   "metadata": {
    "collapsed": true
   },
   "outputs": [],
   "source": []
  }
 ],
 "metadata": {
  "kernelspec": {
   "display_name": "Python 3",
   "language": "python",
   "name": "python3"
  },
  "language_info": {
   "codemirror_mode": {
    "name": "ipython",
    "version": 3
   },
   "file_extension": ".py",
   "mimetype": "text/x-python",
   "name": "python",
   "nbconvert_exporter": "python",
   "pygments_lexer": "ipython3",
   "version": "3.6.3"
  }
 },
 "nbformat": 4,
 "nbformat_minor": 2
}
